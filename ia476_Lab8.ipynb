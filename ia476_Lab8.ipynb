{
  "cells": [
    {
      "cell_type": "markdown",
      "metadata": {
        "id": "2BzAOihdlx51"
      },
      "source": [
        "# Diamond Company Analytics Challenge\n",
        "\n",
        "**Time:** 35 minutes\n",
        "\n",
        "**Scenario:** You are the new data analyst at a prestigious diamond company. The CEO has called an urgent meeting and needs answers to critical business questions about the inventory.\n",
        "\n",
        "**Your Mission:** Analyze the diamond inventory data and provide insights to guide strategic decisions."
      ]
    },
    {
      "cell_type": "code",
      "execution_count": 1,
      "metadata": {
        "id": "bH4cCohElx53",
        "outputId": "619bc7dd-59c9-40dd-f67f-5e1b2a2f84f2",
        "colab": {
          "base_uri": "https://localhost:8080/"
        }
      },
      "outputs": [
        {
          "output_type": "stream",
          "name": "stdout",
          "text": [
            "Loading diamonds dataset...\n",
            "Dataset loaded successfully!\n"
          ]
        }
      ],
      "source": [
        "import polars as pl\n",
        "\n",
        "# Load the diamonds dataset\n",
        "print(\"Loading diamonds dataset...\")\n",
        "df = pl.read_csv('https://raw.githubusercontent.com/pycaret/pycaret/master/datasets/diamond.csv')\n",
        "print(\"Dataset loaded successfully!\")"
      ]
    },
    {
      "cell_type": "markdown",
      "metadata": {
        "id": "BVr0I9CMlx54"
      },
      "source": [
        "## Section 1: Initial Inventory Assessment (5 minutes)\n",
        "\n",
        "The CEO walks in: \"Before we dive into specifics, I need to understand what we're working with. Give me the basics about our inventory database.\""
      ]
    },
    {
      "cell_type": "markdown",
      "metadata": {
        "id": "RJyUEp6rlx54"
      },
      "source": [
        "### Question 1: \"How extensive is our inventory database?\"\n",
        "\n",
        "The CEO needs to know the scale of data you're analyzing."
      ]
    },
    {
      "cell_type": "code",
      "execution_count": 2,
      "metadata": {
        "id": "VTAnBeBIlx55",
        "outputId": "a6a300a8-5260-4bdb-d46c-84349ea935ba",
        "colab": {
          "base_uri": "https://localhost:8080/"
        }
      },
      "outputs": [
        {
          "output_type": "stream",
          "name": "stdout",
          "text": [
            "Number of rows: 6000\n",
            "Number of columns: 8\n"
          ]
        }
      ],
      "source": [
        "# Your code here:\n",
        "num_rows = df.height\n",
        "num_cols = df.width\n",
        "print(f\"Number of rows: {num_rows}\")\n",
        "print(f\"Number of columns: {num_cols}\")"
      ]
    },
    {
      "cell_type": "markdown",
      "metadata": {
        "id": "cf01vJR8lx55"
      },
      "source": [
        "### Question 2: \"What information do we track about each diamond?\"\n",
        "\n",
        "List all the characteristics we record."
      ]
    },
    {
      "cell_type": "code",
      "execution_count": 3,
      "metadata": {
        "id": "K0t5X_RYlx56",
        "outputId": "234c933f-22d8-4b7e-898a-b0b646d24b52",
        "colab": {
          "base_uri": "https://localhost:8080/"
        }
      },
      "outputs": [
        {
          "output_type": "stream",
          "name": "stdout",
          "text": [
            "For every diamond, we track these characteristics:\n",
            "['Carat Weight', 'Cut', 'Color', 'Clarity', 'Polish', 'Symmetry', 'Report', 'Price']\n"
          ]
        }
      ],
      "source": [
        "# Your code here:\n",
        "print(\"For every diamond, we track these characteristics:\")\n",
        "print(df.columns)"
      ]
    },
    {
      "cell_type": "markdown",
      "metadata": {
        "id": "7z4F6Y_Vlx57"
      },
      "source": [
        "### Question 3: \"When I look at one line in this database, what am I looking at?\"\n",
        "\n",
        "Explain in business terms:\n"
      ]
    },
    {
      "cell_type": "markdown",
      "metadata": {
        "id": "EqwYm-PNlx57"
      },
      "source": [
        "**Your answer:** Each row represents: One unique diamond being tracked in the inventory with all of its characteristics."
      ]
    },
    {
      "cell_type": "markdown",
      "metadata": {
        "id": "FagAU0volx58"
      },
      "source": [
        "## Section 2: Strategic Business Questions (20 minutes)\n",
        "\n",
        "The CEO continues: \"Now let's get to the important questions. Our board meeting is tomorrow and I need concrete numbers.\""
      ]
    },
    {
      "cell_type": "markdown",
      "metadata": {
        "id": "FmvumyjWlx58"
      },
      "source": [
        "### Question 4: \"We're considering expanding our storage facilities. How many total carats do we have in inventory? I need to know if our vaults can handle the weight.\"\n",
        "\n",
        "Think about what measurement would help answer this."
      ]
    },
    {
      "cell_type": "code",
      "execution_count": 12,
      "metadata": {
        "id": "sX6R0U5mlx58",
        "outputId": "b800a00a-1e78-4835-b65b-b4c5dd4a1da7",
        "colab": {
          "base_uri": "https://localhost:8080/"
        }
      },
      "outputs": [
        {
          "output_type": "stream",
          "name": "stdout",
          "text": [
            "The inventory contains 8007.12 carats of diamonds.\n"
          ]
        }
      ],
      "source": [
        "# Your code here:\n",
        "total_carats = df[\"Carat Weight\"].sum()\n",
        "print(f\"The inventory contains {total_carats:.2f} carats of diamonds.\")"
      ]
    },
    {
      "cell_type": "markdown",
      "metadata": {
        "id": "S3Mx4kdBlx59"
      },
      "source": [
        "### Question 5: \"Our new marketing campaign claims we have 'the widest variety of cuts in the industry.' Can you verify this?\"\n",
        "\n",
        "The CEO wants to know about variety, not quantity."
      ]
    },
    {
      "cell_type": "code",
      "execution_count": 13,
      "metadata": {
        "id": "5HXYzMIelx59",
        "outputId": "89db13d2-5fff-42c7-8de8-3e626ca19eb0",
        "colab": {
          "base_uri": "https://localhost:8080/"
        }
      },
      "outputs": [
        {
          "output_type": "stream",
          "name": "stdout",
          "text": [
            "We have 5 distinct cut varieties: ['Ideal', 'Good', 'Signature-Ideal', 'Very Good', 'Fair'].\n"
          ]
        }
      ],
      "source": [
        "# Your code here:\n",
        "unique_cuts = df[\"Cut\"].unique()\n",
        "num_cuts = unique_cuts.len()\n",
        "print(f\"We have {num_cuts} distinct cut varieties: {list(unique_cuts)}.\")"
      ]
    },
    {
      "cell_type": "markdown",
      "metadata": {
        "id": "AKig9muClx59"
      },
      "source": [
        "### Question 6: \"I'm meeting with our insurance company. They need to know our price exposure - what's our most and least valuable diamond?\""
      ]
    },
    {
      "cell_type": "code",
      "execution_count": 14,
      "metadata": {
        "id": "UxzCOGkslx5-",
        "outputId": "fd1577ab-1a0f-4df9-9c15-bf0738529b7a",
        "colab": {
          "base_uri": "https://localhost:8080/"
        }
      },
      "outputs": [
        {
          "output_type": "stream",
          "name": "stdout",
          "text": [
            "Our most valuable diamond is priced at $101,561.00, while our least valuable diamond is priced at $2,184.00.\n"
          ]
        }
      ],
      "source": [
        "# Your code here:\n",
        "max_price = df[\"Price\"].max()\n",
        "min_price = df[\"Price\"].min()\n",
        "\n",
        "print(f\"Our most valuable diamond is priced at ${max_price:,.2f}, \"\n",
        "      f\"while our least valuable diamond is priced at ${min_price:,.2f}.\")"
      ]
    },
    {
      "cell_type": "markdown",
      "metadata": {
        "id": "4WQBft-5lx5-"
      },
      "source": [
        "### Question 7: \"Which color grades should we focus on in our premium line? I need typical prices across our color spectrum.\"\n",
        "\n",
        "The CEO wants to understand pricing patterns."
      ]
    },
    {
      "cell_type": "code",
      "execution_count": 15,
      "metadata": {
        "id": "L34tx3N2lx5-",
        "outputId": "94440b02-8415-4c0c-cf10-64fcb654be97",
        "colab": {
          "base_uri": "https://localhost:8080/"
        }
      },
      "outputs": [
        {
          "output_type": "stream",
          "name": "stdout",
          "text": [
            "shape: (6, 2)\n",
            "┌───────┬───────────────┐\n",
            "│ Color ┆ Average Price │\n",
            "│ ---   ┆ ---           │\n",
            "│ str   ┆ f64           │\n",
            "╞═══════╪═══════════════╡\n",
            "│ D     ┆ 15255.783661  │\n",
            "│ I     ┆ 8989.636364   │\n",
            "│ H     ┆ 10487.347544  │\n",
            "│ G     ┆ 12520.050633  │\n",
            "│ F     ┆ 12712.241856  │\n",
            "│ E     ┆ 11539.190231  │\n",
            "└───────┴───────────────┘\n"
          ]
        }
      ],
      "source": [
        "# Your code here:\n",
        "avg_prices = df.group_by(\"Color\").agg([\n",
        "    pl.mean(\"Price\").alias(\"Average Price\")\n",
        "])\n",
        "\n",
        "print(avg_prices)\n",
        ""
      ]
    },
    {
      "cell_type": "markdown",
      "metadata": {
        "id": "rlO2iT6Wlx5-"
      },
      "source": [
        "**Reflection:** After analyzing by color, how has your view of the data changed? What does each row in your result represent now?"
      ]
    },
    {
      "cell_type": "markdown",
      "metadata": {
        "id": "LPDiTQoRlx5-"
      },
      "source": [
        "**Your answer:** New grain = Each row now represents a single color grade, showing the average diamond price for that color across the entire inventory.\n"
      ]
    },
    {
      "cell_type": "markdown",
      "metadata": {
        "id": "-btPRnBUlx5-"
      },
      "source": [
        "## Section 3: Advanced Strategic Analysis (10 minutes)\n",
        "\n",
        "The CEO leans forward: \"These next questions will shape our strategy for next year.\""
      ]
    },
    {
      "cell_type": "markdown",
      "metadata": {
        "id": "IWpCK4Uelx5_"
      },
      "source": [
        "### Question 8: \"We're thinking of specializing in certain clarity grades. For our investor deck, I need a complete breakdown showing: how many diamonds we have in each clarity grade, their typical price, and the total carats we're holding for each grade.\""
      ]
    },
    {
      "cell_type": "code",
      "execution_count": 16,
      "metadata": {
        "id": "rkDQxi-Elx5_",
        "outputId": "d432f22d-bda3-46e5-f180-08ecf1a1718a",
        "colab": {
          "base_uri": "https://localhost:8080/"
        }
      },
      "outputs": [
        {
          "output_type": "stream",
          "name": "stdout",
          "text": [
            "shape: (7, 4)\n",
            "┌─────────┬────────────────────┬───────────────┬──────────────┐\n",
            "│ Clarity ┆ Number of Diamonds ┆ Average Price ┆ Total Carats │\n",
            "│ ---     ┆ ---                ┆ ---           ┆ ---          │\n",
            "│ str     ┆ u32                ┆ f64           ┆ f64          │\n",
            "╞═════════╪════════════════════╪═══════════════╪══════════════╡\n",
            "│ VVS1    ┆ 285                ┆ 16845.680702  ┆ 389.43       │\n",
            "│ VVS2    ┆ 666                ┆ 14142.177177  ┆ 876.58       │\n",
            "│ IF      ┆ 219                ┆ 22105.844749  ┆ 316.0        │\n",
            "│ SI1     ┆ 2059               ┆ 8018.864012   ┆ 2563.69      │\n",
            "│ FL      ┆ 4                  ┆ 63776.0       ┆ 7.87         │\n",
            "│ VS1     ┆ 1192               ┆ 13694.113255  ┆ 1682.74      │\n",
            "│ VS2     ┆ 1575               ┆ 11809.053333  ┆ 2170.81      │\n",
            "└─────────┴────────────────────┴───────────────┴──────────────┘\n"
          ]
        },
        {
          "output_type": "stream",
          "name": "stderr",
          "text": [
            "/tmp/ipython-input-957071232.py:3: DeprecationWarning: `pl.count()` is deprecated. Please use `pl.len()` instead.\n",
            "  pl.count().alias(\"Number of Diamonds\"),\n"
          ]
        }
      ],
      "source": [
        "# Your code here:\n",
        "clarity_summary = df.group_by(\"Clarity\").agg([\n",
        "    pl.count().alias(\"Number of Diamonds\"),\n",
        "    pl.mean(\"Price\").alias(\"Average Price\"),\n",
        "    pl.sum(\"Carat Weight\").alias(\"Total Carats\")\n",
        "])\n",
        "\n",
        "print(clarity_summary)"
      ]
    },
    {
      "cell_type": "markdown",
      "metadata": {
        "id": "Rz83C-xtlx6C"
      },
      "source": [
        "### Question 9: \"My luxury competitor claims they have the best prices for every cut-color combination. Show me our pricing structure across these combinations - I want to see where we're competitive.\""
      ]
    },
    {
      "cell_type": "code",
      "execution_count": 17,
      "metadata": {
        "id": "gZCvDAizlx6C",
        "outputId": "9afe93e7-5d4e-451a-f9a9-60ff7a277c72",
        "colab": {
          "base_uri": "https://localhost:8080/"
        }
      },
      "outputs": [
        {
          "output_type": "stream",
          "name": "stdout",
          "text": [
            "shape: (30, 3)\n",
            "┌─────────────────┬───────┬───────────────┐\n",
            "│ Cut             ┆ Color ┆ Average Price │\n",
            "│ ---             ┆ ---   ┆ ---           │\n",
            "│ str             ┆ str   ┆ f64           │\n",
            "╞═════════════════╪═══════╪═══════════════╡\n",
            "│ Very Good       ┆ D     ┆ 13218.826415  │\n",
            "│ Very Good       ┆ I     ┆ 8930.031332   │\n",
            "│ Signature-Ideal ┆ D     ┆ 19823.1       │\n",
            "│ Good            ┆ H     ┆ 9535.132812   │\n",
            "│ Fair            ┆ E     ┆ 5370.625      │\n",
            "│ …               ┆ …     ┆ …             │\n",
            "│ Signature-Ideal ┆ G     ┆ 10248.296875  │\n",
            "│ Good            ┆ I     ┆ 8174.113043   │\n",
            "│ Fair            ┆ H     ┆ 5908.5        │\n",
            "│ Signature-Ideal ┆ E     ┆ 11261.914286  │\n",
            "│ Ideal           ┆ E     ┆ 12647.107914  │\n",
            "└─────────────────┴───────┴───────────────┘\n"
          ]
        }
      ],
      "source": [
        "# Your code here:\n",
        "cut_color_summary = df.group_by([\"Cut\", \"Color\"]).agg([\n",
        "    pl.mean(\"Price\").alias(\"Average Price\")\n",
        "])\n",
        "\n",
        "print(cut_color_summary)"
      ]
    },
    {
      "cell_type": "markdown",
      "metadata": {
        "id": "KFPFixTelx6C"
      },
      "source": [
        "**Reflection:** How specific is your analysis now? What level of detail does each row represent?"
      ]
    },
    {
      "cell_type": "markdown",
      "metadata": {
        "id": "ckL7v71jlx6C"
      },
      "source": [
        "**Your answer:** New grain = Each row now represents a unique cut–color combination, with the average price of diamonds in that group.\n",
        "     "
      ]
    },
    {
      "cell_type": "markdown",
      "metadata": {
        "id": "lBEfuacalx6C"
      },
      "source": [
        "### Question 10: URGENT - \"Our biggest client is interested in purchasing entire inventory segments. They asked: 'Which color-cut combinations represent your highest total inventory value?' Show me the top 5 most valuable inventory segments by total worth, and include how many diamonds are in each segment.\"\n",
        "\n",
        "This is critical for tomorrow's negotiation."
      ]
    },
    {
      "cell_type": "code",
      "execution_count": 18,
      "metadata": {
        "id": "ZacZOvLulx6C",
        "outputId": "a290746a-9958-442e-d5e2-dc47515738b8",
        "colab": {
          "base_uri": "https://localhost:8080/"
        }
      },
      "outputs": [
        {
          "output_type": "stream",
          "name": "stdout",
          "text": [
            "shape: (5, 4)\n",
            "┌───────────┬───────┬─────────────┬────────────────────┐\n",
            "│ Cut       ┆ Color ┆ Total Value ┆ Number of Diamonds │\n",
            "│ ---       ┆ ---   ┆ ---         ┆ ---                │\n",
            "│ str       ┆ str   ┆ i64         ┆ u32                │\n",
            "╞═══════════╪═══════╪═════════════╪════════════════════╡\n",
            "│ Ideal     ┆ G     ┆ 9363514     ┆ 690                │\n",
            "│ Very Good ┆ G     ┆ 7140620     ┆ 578                │\n",
            "│ Very Good ┆ F     ┆ 5648327     ┆ 455                │\n",
            "│ Ideal     ┆ F     ┆ 5346782     ┆ 363                │\n",
            "│ Ideal     ┆ H     ┆ 5279687     ┆ 458                │\n",
            "└───────────┴───────┴─────────────┴────────────────────┘\n"
          ]
        },
        {
          "output_type": "stream",
          "name": "stderr",
          "text": [
            "/tmp/ipython-input-4119839846.py:5: DeprecationWarning: `pl.count()` is deprecated. Please use `pl.len()` instead.\n",
            "  pl.count().alias(\"Number of Diamonds\")\n"
          ]
        }
      ],
      "source": [
        "# Your code here:\n",
        "top_segments = (\n",
        "    df.group_by([\"Cut\", \"Color\"]).agg([\n",
        "        pl.sum(\"Price\").alias(\"Total Value\"),\n",
        "        pl.count().alias(\"Number of Diamonds\")\n",
        "    ])\n",
        "    .sort(\"Total Value\", descending=True)\n",
        "    .head(5)\n",
        ")\n",
        "\n",
        "print(top_segments)"
      ]
    },
    {
      "cell_type": "markdown",
      "metadata": {
        "id": "hFB_T-xulx6C"
      },
      "source": [
        "## Debrief\n",
        "\n",
        "Congratulations! You've just completed your first day as the diamond company's data analyst.\n",
        "\n",
        "Remember:\n",
        "- CEOs speak in business language, not technical terms\n",
        "- Always understand what each row represents before analyzing\n",
        "- Business questions contain clues about which operations to use"
      ]
    }
  ],
  "metadata": {
    "kernelspec": {
      "display_name": "Python 3",
      "language": "python",
      "name": "python3"
    },
    "language_info": {
      "codemirror_mode": {
        "name": "ipython",
        "version": 3
      },
      "file_extension": ".py",
      "mimetype": "text/x-python",
      "name": "python",
      "nbconvert_exporter": "python",
      "pygments_lexer": "ipython3",
      "version": "3.12.0"
    },
    "colab": {
      "provenance": []
    }
  },
  "nbformat": 4,
  "nbformat_minor": 0
}