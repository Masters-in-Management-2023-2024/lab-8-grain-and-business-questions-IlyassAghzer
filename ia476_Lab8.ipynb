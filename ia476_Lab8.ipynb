{
  "nbformat": 4,
  "nbformat_minor": 0,
  "metadata": {
    "colab": {
      "provenance": []
    },
    "kernelspec": {
      "name": "python3",
      "display_name": "Python 3"
    },
    "language_info": {
      "name": "python"
    }
  },
  "cells": [
    {
      "cell_type": "code",
      "execution_count": 1,
      "metadata": {
        "colab": {
          "base_uri": "https://localhost:8080/"
        },
        "id": "D6abaw88Ljn0",
        "outputId": "aecffe0a-fa01-4742-daf1-23f43273038b"
      },
      "outputs": [
        {
          "output_type": "stream",
          "name": "stdout",
          "text": [
            "Loading diamonds dataset...\n",
            "Dataset loaded successfully!\n"
          ]
        }
      ],
      "source": [
        "import polars as pl\n",
        "\n",
        "# Load the diamonds dataset\n",
        "print(\"Loading diamonds dataset...\")\n",
        "df = pl.read_csv('https://raw.githubusercontent.com/pycaret/pycaret/master/datasets/diamond.csv')\n",
        "print(\"Dataset loaded successfully!\")"
      ]
    },
    {
      "cell_type": "code",
      "source": [
        "# Question 1:\n",
        "num_rows = df.height\n",
        "num_cols = df.width\n",
        "print(f\"Number of rows: {num_rows}\")\n",
        "print(f\"Number of columns: {num_cols}\")\n"
      ],
      "metadata": {
        "colab": {
          "base_uri": "https://localhost:8080/"
        },
        "id": "n5c5WCHjLwYu",
        "outputId": "a745f3e3-066a-426f-c241-86de0e460e55"
      },
      "execution_count": 2,
      "outputs": [
        {
          "output_type": "stream",
          "name": "stdout",
          "text": [
            "Number of rows: 6000\n",
            "Number of columns: 8\n"
          ]
        }
      ]
    },
    {
      "cell_type": "code",
      "source": [
        "# Question 2:\n",
        "print(\"For every diamond, we track these characteristics:\")\n",
        "print(df.columns)\n"
      ],
      "metadata": {
        "colab": {
          "base_uri": "https://localhost:8080/"
        },
        "id": "P9HNCg8lMdn6",
        "outputId": "f9c5e126-1634-40b8-acd4-36f284671ae9"
      },
      "execution_count": 4,
      "outputs": [
        {
          "output_type": "stream",
          "name": "stdout",
          "text": [
            "For every diamond, we track these characteristics:\n",
            "['Carat Weight', 'Cut', 'Color', 'Clarity', 'Polish', 'Symmetry', 'Report', 'Price']\n"
          ]
        }
      ]
    },
    {
      "cell_type": "code",
      "source": [
        "# Question 3:\n",
        "# Each row represents: one unique diamond being tracked in the inventory with all of its characteristics."
      ],
      "metadata": {
        "id": "2rOnkGHvNl-W"
      },
      "execution_count": null,
      "outputs": []
    },
    {
      "cell_type": "code",
      "source": [
        "# Question 4:\n",
        "total_carats = df[\"Carat Weight\"].sum()\n",
        "print(f\"The inventory contains {total_carats:.2f} carats of diamonds.\")\n"
      ],
      "metadata": {
        "colab": {
          "base_uri": "https://localhost:8080/"
        },
        "id": "5KiH9pqOOkJP",
        "outputId": "ed383211-fae3-4375-bea6-d85697976c10"
      },
      "execution_count": 5,
      "outputs": [
        {
          "output_type": "stream",
          "name": "stdout",
          "text": [
            "The inventory contains 8007.12 carats of diamonds.\n"
          ]
        }
      ]
    },
    {
      "cell_type": "code",
      "source": [
        "# Question 5:\n",
        "unique_cuts = df[\"Cut\"].unique()\n",
        "num_cuts = unique_cuts.len()\n",
        "print(f\"We have {num_cuts} distinct cut varieties: {list(unique_cuts)}.\")\n"
      ],
      "metadata": {
        "colab": {
          "base_uri": "https://localhost:8080/"
        },
        "id": "K6Lqq4XaO8gO",
        "outputId": "691b062a-cfaf-432c-c2e6-71e26170a50a"
      },
      "execution_count": 6,
      "outputs": [
        {
          "output_type": "stream",
          "name": "stdout",
          "text": [
            "We have 5 distinct cut varieties: ['Fair', 'Good', 'Signature-Ideal', 'Ideal', 'Very Good'].\n"
          ]
        }
      ]
    },
    {
      "cell_type": "code",
      "source": [
        "# Question 6:\n",
        "max_price = df[\"Price\"].max()\n",
        "min_price = df[\"Price\"].min()\n",
        "\n",
        "print(f\"Our most valuable diamond is priced at ${max_price:,.2f}, \"\n",
        "      f\"while our least valuable diamond is priced at ${min_price:,.2f}.\")\n"
      ],
      "metadata": {
        "colab": {
          "base_uri": "https://localhost:8080/"
        },
        "id": "2k5vYhkEPTIu",
        "outputId": "b3669073-12b7-490d-bb60-4595e367aef8"
      },
      "execution_count": 7,
      "outputs": [
        {
          "output_type": "stream",
          "name": "stdout",
          "text": [
            "Our most valuable diamond is priced at $101,561.00, while our least valuable diamond is priced at $2,184.00.\n"
          ]
        }
      ]
    },
    {
      "cell_type": "code",
      "source": [
        "# Question 7:\n",
        "avg_prices = df.group_by(\"Color\").agg([\n",
        "    pl.mean(\"Price\").alias(\"Average Price\")\n",
        "])\n",
        "\n",
        "print(avg_prices)"
      ],
      "metadata": {
        "colab": {
          "base_uri": "https://localhost:8080/"
        },
        "id": "wzGsob7yPkgv",
        "outputId": "30ed0289-bcf9-45c6-997b-1fc47e986e1c"
      },
      "execution_count": 9,
      "outputs": [
        {
          "output_type": "stream",
          "name": "stdout",
          "text": [
            "shape: (6, 2)\n",
            "┌───────┬───────────────┐\n",
            "│ Color ┆ Average Price │\n",
            "│ ---   ┆ ---           │\n",
            "│ str   ┆ f64           │\n",
            "╞═══════╪═══════════════╡\n",
            "│ H     ┆ 10487.347544  │\n",
            "│ E     ┆ 11539.190231  │\n",
            "│ G     ┆ 12520.050633  │\n",
            "│ F     ┆ 12712.241856  │\n",
            "│ D     ┆ 15255.783661  │\n",
            "│ I     ┆ 8989.636364   │\n",
            "└───────┴───────────────┘\n"
          ]
        }
      ]
    },
    {
      "cell_type": "code",
      "source": [
        "# Question 7:\n",
        "# New grain = Each row now represents a single color grade, showing the average diamond price for that color across the entire inventory.\n"
      ],
      "metadata": {
        "id": "3LnV64rsQQJR"
      },
      "execution_count": null,
      "outputs": []
    },
    {
      "cell_type": "code",
      "source": [
        "# Question 8:\n",
        "clarity_summary = df.group_by(\"Clarity\").agg([\n",
        "    pl.count().alias(\"Number of Diamonds\"),\n",
        "    pl.mean(\"Price\").alias(\"Average Price\"),\n",
        "    pl.sum(\"Carat Weight\").alias(\"Total Carats\")\n",
        "])\n",
        "\n",
        "print(clarity_summary)"
      ],
      "metadata": {
        "colab": {
          "base_uri": "https://localhost:8080/"
        },
        "id": "zOObNd9jQiBL",
        "outputId": "e8d3f0cf-9cec-4cc1-805d-070fd53492cc"
      },
      "execution_count": 12,
      "outputs": [
        {
          "output_type": "stream",
          "name": "stdout",
          "text": [
            "shape: (7, 4)\n",
            "┌─────────┬────────────────────┬───────────────┬──────────────┐\n",
            "│ Clarity ┆ Number of Diamonds ┆ Average Price ┆ Total Carats │\n",
            "│ ---     ┆ ---                ┆ ---           ┆ ---          │\n",
            "│ str     ┆ u32                ┆ f64           ┆ f64          │\n",
            "╞═════════╪════════════════════╪═══════════════╪══════════════╡\n",
            "│ VVS1    ┆ 285                ┆ 16845.680702  ┆ 389.43       │\n",
            "│ VVS2    ┆ 666                ┆ 14142.177177  ┆ 876.58       │\n",
            "│ FL      ┆ 4                  ┆ 63776.0       ┆ 7.87         │\n",
            "│ SI1     ┆ 2059               ┆ 8018.864012   ┆ 2563.69      │\n",
            "│ IF      ┆ 219                ┆ 22105.844749  ┆ 316.0        │\n",
            "│ VS1     ┆ 1192               ┆ 13694.113255  ┆ 1682.74      │\n",
            "│ VS2     ┆ 1575               ┆ 11809.053333  ┆ 2170.81      │\n",
            "└─────────┴────────────────────┴───────────────┴──────────────┘\n"
          ]
        },
        {
          "output_type": "stream",
          "name": "stderr",
          "text": [
            "/tmp/ipython-input-184141249.py:3: DeprecationWarning: `pl.count()` is deprecated. Please use `pl.len()` instead.\n",
            "  pl.count().alias(\"Number of Diamonds\"),\n"
          ]
        }
      ]
    },
    {
      "cell_type": "code",
      "source": [
        "# Question 9:\n",
        "cut_color_summary = df.group_by([\"Cut\", \"Color\"]).agg([\n",
        "    pl.mean(\"Price\").alias(\"Average Price\")\n",
        "])\n",
        "\n",
        "print(cut_color_summary)"
      ],
      "metadata": {
        "colab": {
          "base_uri": "https://localhost:8080/"
        },
        "id": "vWUZp3aYQ7Kn",
        "outputId": "78702e57-01ea-45d6-f61c-9c089c166bea"
      },
      "execution_count": 15,
      "outputs": [
        {
          "output_type": "stream",
          "name": "stdout",
          "text": [
            "shape: (30, 3)\n",
            "┌─────────────────┬───────┬───────────────┐\n",
            "│ Cut             ┆ Color ┆ Average Price │\n",
            "│ ---             ┆ ---   ┆ ---           │\n",
            "│ str             ┆ str   ┆ f64           │\n",
            "╞═════════════════╪═══════╪═══════════════╡\n",
            "│ Ideal           ┆ E     ┆ 12647.107914  │\n",
            "│ Very Good       ┆ G     ┆ 12354.013841  │\n",
            "│ Very Good       ┆ I     ┆ 8930.031332   │\n",
            "│ Fair            ┆ D     ┆ 6058.25       │\n",
            "│ Signature-Ideal ┆ F     ┆ 13247.947368  │\n",
            "│ …               ┆ …     ┆ …             │\n",
            "│ Ideal           ┆ H     ┆ 11527.700873  │\n",
            "│ Signature-Ideal ┆ E     ┆ 11261.914286  │\n",
            "│ Ideal           ┆ I     ┆ 9459.588378   │\n",
            "│ Very Good       ┆ F     ┆ 12413.905495  │\n",
            "│ Very Good       ┆ H     ┆ 10056.106132  │\n",
            "└─────────────────┴───────┴───────────────┘\n"
          ]
        }
      ]
    },
    {
      "cell_type": "code",
      "source": [
        "# Question 9:\n",
        "# New grain = Each row now represents a unique cut–color combination, with the average price of diamonds in that group."
      ],
      "metadata": {
        "id": "USndNM_LRQTe"
      },
      "execution_count": null,
      "outputs": []
    },
    {
      "cell_type": "code",
      "source": [
        "# Question 10:\n",
        "top_segments = (\n",
        "    df.group_by([\"Cut\", \"Color\"]).agg([\n",
        "        pl.sum(\"Price\").alias(\"Total Value\"),\n",
        "        pl.count().alias(\"Number of Diamonds\")\n",
        "    ])\n",
        "    .sort(\"Total Value\", descending=True)\n",
        "    .head(5)\n",
        ")\n",
        "\n",
        "print(top_segments)"
      ],
      "metadata": {
        "colab": {
          "base_uri": "https://localhost:8080/"
        },
        "id": "qnRPHrmLRauU",
        "outputId": "283100fa-3de9-4cfc-89b8-c587e5857494"
      },
      "execution_count": 17,
      "outputs": [
        {
          "output_type": "stream",
          "name": "stdout",
          "text": [
            "shape: (5, 4)\n",
            "┌───────────┬───────┬─────────────┬────────────────────┐\n",
            "│ Cut       ┆ Color ┆ Total Value ┆ Number of Diamonds │\n",
            "│ ---       ┆ ---   ┆ ---         ┆ ---                │\n",
            "│ str       ┆ str   ┆ i64         ┆ u32                │\n",
            "╞═══════════╪═══════╪═════════════╪════════════════════╡\n",
            "│ Ideal     ┆ G     ┆ 9363514     ┆ 690                │\n",
            "│ Very Good ┆ G     ┆ 7140620     ┆ 578                │\n",
            "│ Very Good ┆ F     ┆ 5648327     ┆ 455                │\n",
            "│ Ideal     ┆ F     ┆ 5346782     ┆ 363                │\n",
            "│ Ideal     ┆ H     ┆ 5279687     ┆ 458                │\n",
            "└───────────┴───────┴─────────────┴────────────────────┘\n"
          ]
        },
        {
          "output_type": "stream",
          "name": "stderr",
          "text": [
            "/tmp/ipython-input-3400300874.py:5: DeprecationWarning: `pl.count()` is deprecated. Please use `pl.len()` instead.\n",
            "  pl.count().alias(\"Number of Diamonds\")\n"
          ]
        }
      ]
    }
  ]
}